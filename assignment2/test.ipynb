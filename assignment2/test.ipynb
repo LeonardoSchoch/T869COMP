{
 "cells": [
  {
   "cell_type": "code",
   "execution_count": 1,
   "metadata": {},
   "outputs": [],
   "source": [
    "import cv2\n",
    "import time\n",
    "import numpy as np"
   ]
  },
  {
   "cell_type": "code",
   "execution_count": 2,
   "metadata": {},
   "outputs": [
    {
     "ename": "KeyboardInterrupt",
     "evalue": "",
     "output_type": "error",
     "traceback": [
      "\u001b[1;31m---------------------------------------------------------------------------\u001b[0m",
      "\u001b[1;31mKeyboardInterrupt\u001b[0m                         Traceback (most recent call last)",
      "\u001b[1;32mc:\\Users\\leona\\OneDrive - student.kit.edu\\Dokumente\\GitHub\\T869COMP\\assignment2\\test.ipynb Cell 2\u001b[0m line \u001b[0;36m1\n\u001b[0;32m      <a href='vscode-notebook-cell:/c%3A/Users/leona/OneDrive%20-%20student.kit.edu/Dokumente/GitHub/T869COMP/assignment2/test.ipynb#W1sZmlsZQ%3D%3D?line=8'>9</a>\u001b[0m     \u001b[39mprint\u001b[39m(\u001b[39m\"\u001b[39m\u001b[39mError reading from the camera.\u001b[39m\u001b[39m\"\u001b[39m)\n\u001b[0;32m     <a href='vscode-notebook-cell:/c%3A/Users/leona/OneDrive%20-%20student.kit.edu/Dokumente/GitHub/T869COMP/assignment2/test.ipynb#W1sZmlsZQ%3D%3D?line=9'>10</a>\u001b[0m     \u001b[39mbreak\u001b[39;00m\n\u001b[1;32m---> <a href='vscode-notebook-cell:/c%3A/Users/leona/OneDrive%20-%20student.kit.edu/Dokumente/GitHub/T869COMP/assignment2/test.ipynb#W1sZmlsZQ%3D%3D?line=11'>12</a>\u001b[0m edges \u001b[39m=\u001b[39m cv2\u001b[39m.\u001b[39mCanny(frame, \u001b[39m50\u001b[39m, \u001b[39m150\u001b[39m)\n\u001b[0;32m     <a href='vscode-notebook-cell:/c%3A/Users/leona/OneDrive%20-%20student.kit.edu/Dokumente/GitHub/T869COMP/assignment2/test.ipynb#W1sZmlsZQ%3D%3D?line=12'>13</a>\u001b[0m edge_points_yx \u001b[39m=\u001b[39m np\u001b[39m.\u001b[39mwhere(edges \u001b[39m>\u001b[39m \u001b[39m0\u001b[39m)\n\u001b[0;32m     <a href='vscode-notebook-cell:/c%3A/Users/leona/OneDrive%20-%20student.kit.edu/Dokumente/GitHub/T869COMP/assignment2/test.ipynb#W1sZmlsZQ%3D%3D?line=13'>14</a>\u001b[0m edge_points_xy \u001b[39m=\u001b[39m np\u001b[39m.\u001b[39mcolumn_stack((edge_points_yx[\u001b[39m1\u001b[39m], edge_points_yx[\u001b[39m0\u001b[39m]))\n",
      "\u001b[1;32mc:\\Users\\leona\\OneDrive - student.kit.edu\\Dokumente\\GitHub\\T869COMP\\assignment2\\test.ipynb Cell 2\u001b[0m line \u001b[0;36m1\n\u001b[0;32m      <a href='vscode-notebook-cell:/c%3A/Users/leona/OneDrive%20-%20student.kit.edu/Dokumente/GitHub/T869COMP/assignment2/test.ipynb#W1sZmlsZQ%3D%3D?line=8'>9</a>\u001b[0m     \u001b[39mprint\u001b[39m(\u001b[39m\"\u001b[39m\u001b[39mError reading from the camera.\u001b[39m\u001b[39m\"\u001b[39m)\n\u001b[0;32m     <a href='vscode-notebook-cell:/c%3A/Users/leona/OneDrive%20-%20student.kit.edu/Dokumente/GitHub/T869COMP/assignment2/test.ipynb#W1sZmlsZQ%3D%3D?line=9'>10</a>\u001b[0m     \u001b[39mbreak\u001b[39;00m\n\u001b[1;32m---> <a href='vscode-notebook-cell:/c%3A/Users/leona/OneDrive%20-%20student.kit.edu/Dokumente/GitHub/T869COMP/assignment2/test.ipynb#W1sZmlsZQ%3D%3D?line=11'>12</a>\u001b[0m edges \u001b[39m=\u001b[39m cv2\u001b[39m.\u001b[39mCanny(frame, \u001b[39m50\u001b[39m, \u001b[39m150\u001b[39m)\n\u001b[0;32m     <a href='vscode-notebook-cell:/c%3A/Users/leona/OneDrive%20-%20student.kit.edu/Dokumente/GitHub/T869COMP/assignment2/test.ipynb#W1sZmlsZQ%3D%3D?line=12'>13</a>\u001b[0m edge_points_yx \u001b[39m=\u001b[39m np\u001b[39m.\u001b[39mwhere(edges \u001b[39m>\u001b[39m \u001b[39m0\u001b[39m)\n\u001b[0;32m     <a href='vscode-notebook-cell:/c%3A/Users/leona/OneDrive%20-%20student.kit.edu/Dokumente/GitHub/T869COMP/assignment2/test.ipynb#W1sZmlsZQ%3D%3D?line=13'>14</a>\u001b[0m edge_points_xy \u001b[39m=\u001b[39m np\u001b[39m.\u001b[39mcolumn_stack((edge_points_yx[\u001b[39m1\u001b[39m], edge_points_yx[\u001b[39m0\u001b[39m]))\n",
      "File \u001b[1;32m_pydevd_bundle/pydevd_cython.pyx:1457\u001b[0m, in \u001b[0;36m_pydevd_bundle.pydevd_cython.SafeCallWrapper.__call__\u001b[1;34m()\u001b[0m\n",
      "File \u001b[1;32m_pydevd_bundle/pydevd_cython.pyx:701\u001b[0m, in \u001b[0;36m_pydevd_bundle.pydevd_cython.PyDBFrame.trace_dispatch\u001b[1;34m()\u001b[0m\n",
      "File \u001b[1;32m_pydevd_bundle/pydevd_cython.pyx:1152\u001b[0m, in \u001b[0;36m_pydevd_bundle.pydevd_cython.PyDBFrame.trace_dispatch\u001b[1;34m()\u001b[0m\n",
      "File \u001b[1;32m_pydevd_bundle/pydevd_cython.pyx:1135\u001b[0m, in \u001b[0;36m_pydevd_bundle.pydevd_cython.PyDBFrame.trace_dispatch\u001b[1;34m()\u001b[0m\n",
      "File \u001b[1;32m_pydevd_bundle/pydevd_cython.pyx:312\u001b[0m, in \u001b[0;36m_pydevd_bundle.pydevd_cython.PyDBFrame.do_wait_suspend\u001b[1;34m()\u001b[0m\n",
      "File \u001b[1;32mc:\\Users\\leona\\anaconda3\\envs\\t869comp\\Lib\\site-packages\\debugpy\\_vendored\\pydevd\\pydevd.py:2070\u001b[0m, in \u001b[0;36mPyDB.do_wait_suspend\u001b[1;34m(self, thread, frame, event, arg, exception_type)\u001b[0m\n\u001b[0;32m   2067\u001b[0m             from_this_thread\u001b[39m.\u001b[39mappend(frame_custom_thread_id)\n\u001b[0;32m   2069\u001b[0m     \u001b[39mwith\u001b[39;00m \u001b[39mself\u001b[39m\u001b[39m.\u001b[39m_threads_suspended_single_notification\u001b[39m.\u001b[39mnotify_thread_suspended(thread_id, thread, stop_reason):\n\u001b[1;32m-> 2070\u001b[0m         keep_suspended \u001b[39m=\u001b[39m \u001b[39mself\u001b[39;49m\u001b[39m.\u001b[39;49m_do_wait_suspend(thread, frame, event, arg, suspend_type, from_this_thread, frames_tracker)\n\u001b[0;32m   2072\u001b[0m frames_list \u001b[39m=\u001b[39m \u001b[39mNone\u001b[39;00m\n\u001b[0;32m   2074\u001b[0m \u001b[39mif\u001b[39;00m keep_suspended:\n\u001b[0;32m   2075\u001b[0m     \u001b[39m# This means that we should pause again after a set next statement.\u001b[39;00m\n",
      "File \u001b[1;32mc:\\Users\\leona\\anaconda3\\envs\\t869comp\\Lib\\site-packages\\debugpy\\_vendored\\pydevd\\pydevd.py:2106\u001b[0m, in \u001b[0;36mPyDB._do_wait_suspend\u001b[1;34m(self, thread, frame, event, arg, suspend_type, from_this_thread, frames_tracker)\u001b[0m\n\u001b[0;32m   2103\u001b[0m         \u001b[39mself\u001b[39m\u001b[39m.\u001b[39m_call_input_hook()\n\u001b[0;32m   2105\u001b[0m     \u001b[39mself\u001b[39m\u001b[39m.\u001b[39mprocess_internal_commands()\n\u001b[1;32m-> 2106\u001b[0m     time\u001b[39m.\u001b[39msleep(\u001b[39m0.01\u001b[39m)\n\u001b[0;32m   2108\u001b[0m \u001b[39mself\u001b[39m\u001b[39m.\u001b[39mcancel_async_evaluation(get_current_thread_id(thread), \u001b[39mstr\u001b[39m(\u001b[39mid\u001b[39m(frame)))\n\u001b[0;32m   2110\u001b[0m \u001b[39m# process any stepping instructions\u001b[39;00m\n",
      "\u001b[1;31mKeyboardInterrupt\u001b[0m: "
     ]
    }
   ],
   "source": [
    "cap = cv2.VideoCapture(0)\n",
    "\n",
    "frame_count = 0\n",
    "\n",
    "while True:\n",
    "    frame_count += 1\n",
    "    ret, frame = cap.read()\n",
    "    if not ret:\n",
    "        print(\"Error reading from the camera.\")\n",
    "        break\n",
    "    \n",
    "    edges = cv2.Canny(frame, 50, 150)\n",
    "    edge_points_yx = np.where(edges > 0)\n",
    "    edge_points_xy = np.column_stack((edge_points_yx[1], edge_points_yx[0]))\n",
    "    \n",
    "    \n",
    "    edges = cv2.Canny(frame, 50, 150)\n",
    "    edge_points_yx2 = np.column_stack(np.where(edges > 0))\n",
    "    edge_points_xy2 = edge_points_yx2[:, [1, 0]]\n",
    "    \n",
    "    \n",
    "cap.release()\n",
    "cv2.destroyAllWindows()"
   ]
  },
  {
   "cell_type": "code",
   "execution_count": null,
   "metadata": {},
   "outputs": [],
   "source": []
  }
 ],
 "metadata": {
  "kernelspec": {
   "display_name": "t869comp",
   "language": "python",
   "name": "python3"
  },
  "language_info": {
   "codemirror_mode": {
    "name": "ipython",
    "version": 3
   },
   "file_extension": ".py",
   "mimetype": "text/x-python",
   "name": "python",
   "nbconvert_exporter": "python",
   "pygments_lexer": "ipython3",
   "version": "3.11.6"
  }
 },
 "nbformat": 4,
 "nbformat_minor": 2
}
