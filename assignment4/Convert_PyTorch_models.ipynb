{
 "cells": [
  {
   "cell_type": "markdown",
   "metadata": {
    "id": "h0Z6pGDENfka"
   },
   "source": [
    "# Convert PyTorch Models to ONNX\n",
    "Use this notebook to convert the out of the box PyTorch models to other formats."
   ]
  },
  {
   "cell_type": "markdown",
   "metadata": {
    "id": "zAM4YNS4M3iC"
   },
   "source": [
    "## Clone Ultralytics/yolov5 Repository"
   ]
  },
  {
   "cell_type": "code",
   "execution_count": 1,
   "metadata": {
    "id": "IZ34ujwgFs45"
   },
   "outputs": [
    {
     "name": "stdout",
     "output_type": "stream",
     "text": [
      "c:\\Users\\leona\\OneDrive - student.kit.edu\\Dokumente\\GitHub\\T869COMP\\assignment4\\yolov5\n"
     ]
    },
    {
     "name": "stderr",
     "output_type": "stream",
     "text": [
      "Cloning into 'yolov5'...\n"
     ]
    },
    {
     "name": "stdout",
     "output_type": "stream",
     "text": [
      "Requirement already satisfied: gitpython>=3.1.30 in c:\\users\\leona\\anaconda3\\envs\\t869comp\\lib\\site-packages (from -r requirements.txt (line 5)) (3.1.40)\n",
      "Requirement already satisfied: matplotlib>=3.3 in c:\\users\\leona\\anaconda3\\envs\\t869comp\\lib\\site-packages (from -r requirements.txt (line 6)) (3.8.2)\n",
      "Requirement already satisfied: numpy>=1.22.2 in c:\\users\\leona\\anaconda3\\envs\\t869comp\\lib\\site-packages (from -r requirements.txt (line 7)) (1.26.2)\n",
      "Requirement already satisfied: opencv-python>=4.1.1 in c:\\users\\leona\\anaconda3\\envs\\t869comp\\lib\\site-packages (from -r requirements.txt (line 8)) (4.8.1.78)\n",
      "Requirement already satisfied: Pillow>=10.0.1 in c:\\users\\leona\\anaconda3\\envs\\t869comp\\lib\\site-packages (from -r requirements.txt (line 9)) (10.0.1)\n",
      "Requirement already satisfied: psutil in c:\\users\\leona\\anaconda3\\envs\\t869comp\\lib\\site-packages (from -r requirements.txt (line 10)) (5.9.5)\n",
      "Requirement already satisfied: PyYAML>=5.3.1 in c:\\users\\leona\\anaconda3\\envs\\t869comp\\lib\\site-packages (from -r requirements.txt (line 11)) (6.0.1)\n",
      "Requirement already satisfied: requests>=2.23.0 in c:\\users\\leona\\anaconda3\\envs\\t869comp\\lib\\site-packages (from -r requirements.txt (line 12)) (2.31.0)\n",
      "Requirement already satisfied: scipy>=1.4.1 in c:\\users\\leona\\anaconda3\\envs\\t869comp\\lib\\site-packages (from -r requirements.txt (line 13)) (1.11.4)\n",
      "Requirement already satisfied: thop>=0.1.1 in c:\\users\\leona\\anaconda3\\envs\\t869comp\\lib\\site-packages (from -r requirements.txt (line 14)) (0.1.1.post2209072238)\n",
      "Requirement already satisfied: torch>=1.8.0 in c:\\users\\leona\\anaconda3\\envs\\t869comp\\lib\\site-packages (from -r requirements.txt (line 15)) (2.1.1)\n",
      "Requirement already satisfied: torchvision>=0.9.0 in c:\\users\\leona\\anaconda3\\envs\\t869comp\\lib\\site-packages (from -r requirements.txt (line 16)) (0.16.1)\n",
      "Requirement already satisfied: tqdm>=4.64.0 in c:\\users\\leona\\anaconda3\\envs\\t869comp\\lib\\site-packages (from -r requirements.txt (line 17)) (4.66.1)\n",
      "Requirement already satisfied: ultralytics>=8.0.147 in c:\\users\\leona\\anaconda3\\envs\\t869comp\\lib\\site-packages (from -r requirements.txt (line 18)) (8.0.221)\n",
      "Requirement already satisfied: pandas>=1.1.4 in c:\\users\\leona\\anaconda3\\envs\\t869comp\\lib\\site-packages (from -r requirements.txt (line 27)) (2.1.3)\n",
      "Requirement already satisfied: seaborn>=0.11.0 in c:\\users\\leona\\anaconda3\\envs\\t869comp\\lib\\site-packages (from -r requirements.txt (line 28)) (0.13.0)\n",
      "Requirement already satisfied: setuptools>=65.5.1 in c:\\users\\leona\\anaconda3\\envs\\t869comp\\lib\\site-packages (from -r requirements.txt (line 42)) (68.2.2)\n",
      "Requirement already satisfied: gitdb<5,>=4.0.1 in c:\\users\\leona\\anaconda3\\envs\\t869comp\\lib\\site-packages (from gitpython>=3.1.30->-r requirements.txt (line 5)) (4.0.11)\n",
      "Requirement already satisfied: contourpy>=1.0.1 in c:\\users\\leona\\anaconda3\\envs\\t869comp\\lib\\site-packages (from matplotlib>=3.3->-r requirements.txt (line 6)) (1.2.0)\n",
      "Requirement already satisfied: cycler>=0.10 in c:\\users\\leona\\anaconda3\\envs\\t869comp\\lib\\site-packages (from matplotlib>=3.3->-r requirements.txt (line 6)) (0.12.1)\n",
      "Requirement already satisfied: fonttools>=4.22.0 in c:\\users\\leona\\anaconda3\\envs\\t869comp\\lib\\site-packages (from matplotlib>=3.3->-r requirements.txt (line 6)) (4.45.1)\n",
      "Requirement already satisfied: kiwisolver>=1.3.1 in c:\\users\\leona\\anaconda3\\envs\\t869comp\\lib\\site-packages (from matplotlib>=3.3->-r requirements.txt (line 6)) (1.4.5)\n",
      "Requirement already satisfied: packaging>=20.0 in c:\\users\\leona\\anaconda3\\envs\\t869comp\\lib\\site-packages (from matplotlib>=3.3->-r requirements.txt (line 6)) (23.2)\n",
      "Requirement already satisfied: pyparsing>=2.3.1 in c:\\users\\leona\\anaconda3\\envs\\t869comp\\lib\\site-packages (from matplotlib>=3.3->-r requirements.txt (line 6)) (3.1.1)\n",
      "Requirement already satisfied: python-dateutil>=2.7 in c:\\users\\leona\\anaconda3\\envs\\t869comp\\lib\\site-packages (from matplotlib>=3.3->-r requirements.txt (line 6)) (2.8.2)\n",
      "Requirement already satisfied: charset-normalizer<4,>=2 in c:\\users\\leona\\anaconda3\\envs\\t869comp\\lib\\site-packages (from requests>=2.23.0->-r requirements.txt (line 12)) (3.3.2)\n",
      "Requirement already satisfied: idna<4,>=2.5 in c:\\users\\leona\\anaconda3\\envs\\t869comp\\lib\\site-packages (from requests>=2.23.0->-r requirements.txt (line 12)) (3.6)\n",
      "Requirement already satisfied: urllib3<3,>=1.21.1 in c:\\users\\leona\\anaconda3\\envs\\t869comp\\lib\\site-packages (from requests>=2.23.0->-r requirements.txt (line 12)) (2.1.0)\n",
      "Requirement already satisfied: certifi>=2017.4.17 in c:\\users\\leona\\anaconda3\\envs\\t869comp\\lib\\site-packages (from requests>=2.23.0->-r requirements.txt (line 12)) (2023.11.17)\n",
      "Requirement already satisfied: filelock in c:\\users\\leona\\anaconda3\\envs\\t869comp\\lib\\site-packages (from torch>=1.8.0->-r requirements.txt (line 15)) (3.13.1)\n",
      "Requirement already satisfied: typing-extensions in c:\\users\\leona\\anaconda3\\envs\\t869comp\\lib\\site-packages (from torch>=1.8.0->-r requirements.txt (line 15)) (4.8.0)\n",
      "Requirement already satisfied: sympy in c:\\users\\leona\\anaconda3\\envs\\t869comp\\lib\\site-packages (from torch>=1.8.0->-r requirements.txt (line 15)) (1.11.1)\n",
      "Requirement already satisfied: networkx in c:\\users\\leona\\anaconda3\\envs\\t869comp\\lib\\site-packages (from torch>=1.8.0->-r requirements.txt (line 15)) (3.1)\n",
      "Requirement already satisfied: jinja2 in c:\\users\\leona\\anaconda3\\envs\\t869comp\\lib\\site-packages (from torch>=1.8.0->-r requirements.txt (line 15)) (3.1.2)\n",
      "Requirement already satisfied: fsspec in c:\\users\\leona\\anaconda3\\envs\\t869comp\\lib\\site-packages (from torch>=1.8.0->-r requirements.txt (line 15)) (2023.10.0)\n",
      "Requirement already satisfied: colorama in c:\\users\\leona\\anaconda3\\envs\\t869comp\\lib\\site-packages (from tqdm>=4.64.0->-r requirements.txt (line 17)) (0.4.6)\n",
      "Requirement already satisfied: py-cpuinfo in c:\\users\\leona\\anaconda3\\envs\\t869comp\\lib\\site-packages (from ultralytics>=8.0.147->-r requirements.txt (line 18)) (9.0.0)\n",
      "Requirement already satisfied: pytz>=2020.1 in c:\\users\\leona\\anaconda3\\envs\\t869comp\\lib\\site-packages (from pandas>=1.1.4->-r requirements.txt (line 27)) (2023.3.post1)\n",
      "Requirement already satisfied: tzdata>=2022.1 in c:\\users\\leona\\anaconda3\\envs\\t869comp\\lib\\site-packages (from pandas>=1.1.4->-r requirements.txt (line 27)) (2023.3)\n",
      "Requirement already satisfied: smmap<6,>=3.0.1 in c:\\users\\leona\\anaconda3\\envs\\t869comp\\lib\\site-packages (from gitdb<5,>=4.0.1->gitpython>=3.1.30->-r requirements.txt (line 5)) (5.0.1)\n",
      "Requirement already satisfied: six>=1.5 in c:\\users\\leona\\anaconda3\\envs\\t869comp\\lib\\site-packages (from python-dateutil>=2.7->matplotlib>=3.3->-r requirements.txt (line 6)) (1.16.0)\n",
      "Requirement already satisfied: MarkupSafe>=2.0 in c:\\users\\leona\\anaconda3\\envs\\t869comp\\lib\\site-packages (from jinja2->torch>=1.8.0->-r requirements.txt (line 15)) (2.1.1)\n",
      "Requirement already satisfied: mpmath>=0.19 in c:\\users\\leona\\anaconda3\\envs\\t869comp\\lib\\site-packages (from sympy->torch>=1.8.0->-r requirements.txt (line 15)) (1.3.0)\n",
      "Requirement already satisfied: onnx in c:\\users\\leona\\anaconda3\\envs\\t869comp\\lib\\site-packages (1.15.0)\n",
      "Requirement already satisfied: numpy in c:\\users\\leona\\anaconda3\\envs\\t869comp\\lib\\site-packages (from onnx) (1.26.2)\n",
      "Requirement already satisfied: protobuf>=3.20.2 in c:\\users\\leona\\anaconda3\\envs\\t869comp\\lib\\site-packages (from onnx) (3.20.3)\n"
     ]
    }
   ],
   "source": [
    "# !git clone https://github.com/ultralytics/yolov5\n",
    "%cd yolov5\n",
    "# !pip install -r requirements.txt\n",
    "# !pip install onnx"
   ]
  },
  {
   "cell_type": "code",
   "execution_count": 5,
   "metadata": {},
   "outputs": [
    {
     "name": "stderr",
     "output_type": "stream",
     "text": [
      "ERROR: Invalid requirement: 'torch=1.11'\n",
      "Hint: = is not a valid operator. Did you mean == ?\n"
     ]
    }
   ],
   "source": [
    "!pip install torch=1.11 torchvision"
   ]
  },
  {
   "cell_type": "markdown",
   "metadata": {
    "id": "guS1HQ4EMzKI"
   },
   "source": [
    "## Download YOLOv5 PyTorch Models"
   ]
  },
  {
   "cell_type": "code",
   "execution_count": 3,
   "metadata": {
    "id": "QapdevoQObTg"
   },
   "outputs": [
    {
     "name": "stdout",
     "output_type": "stream",
     "text": [
      "c:\\Users\\leona\\OneDrive - student.kit.edu\\Dokumente\\GitHub\\T869COMP\\assignment4\\yolov5\\models\n",
      "^C\n"
     ]
    }
   ],
   "source": [
    "%cd models\n",
    "!curl -Uri https://github.com/ultralytics/yolov5/releases/download/v6.1/yolov5n.pt -OutFile yolov5n.pt\n",
    "!curl -Uri https://github.com/ultralytics/yolov5/releases/download/v6.1/yolov5s.pt -OutFile yolov5s.pt\n",
    "!curl -Uri https://github.com/ultralytics/yolov5/releases/download/v6.1/yolov5m.pt -OutFile yolov5m.pt\n",
    "!curl -Uri https://github.com/ultralytics/yolov5/releases/download/v6.1/yolov5l.pt -OutFile yolov5l.pt\n",
    "!curl -Uri https://github.com/ultralytics/yolov5/releases/download/v6.1/yolov5x.pt -OutFile yolov5x.pt\n",
    "%cd .."
   ]
  },
  {
   "cell_type": "markdown",
   "metadata": {
    "id": "zeAU7NDTNEZa"
   },
   "source": [
    "## Export to ONNX"
   ]
  },
  {
   "cell_type": "code",
   "execution_count": 6,
   "metadata": {},
   "outputs": [
    {
     "name": "stderr",
     "output_type": "stream",
     "text": [
      "\u001b[34m\u001b[1mexport: \u001b[0mdata=C:\\Users\\leona\\OneDrive - student.kit.edu\\Dokumente\\GitHub\\T869COMP\\assignment4\\yolov5\\data\\coco128.yaml, weights=['models/yolov5n.pt'], imgsz=[640, 640], batch_size=1, device=cpu, half=False, inplace=False, keras=False, optimize=False, int8=False, dynamic=False, simplify=False, opset=17, verbose=False, workspace=4, nms=False, agnostic_nms=False, topk_per_class=100, topk_all=100, iou_thres=0.45, conf_thres=0.25, include=['onnx']\n",
      "unknown option: -\n",
      "usage: git [-v | --version] [-h | --help] [-C <path>] [-c <name>=<value>]\n",
      "           [--exec-path[=<path>]] [--html-path] [--man-path] [--info-path]\n",
      "           [-p | --paginate | -P | --no-pager] [--no-replace-objects] [--bare]\n",
      "           [--git-dir=<path>] [--work-tree=<path>] [--namespace=<name>]\n",
      "           [--config-env=<name>=<envvar>] <command> [<args>]\n",
      "YOLOv5  2023-12-1 Python-3.11.6 torch-2.1.1 CPU\n",
      "\n",
      "Fusing layers... \n",
      "YOLOv5n summary: 213 layers, 1867405 parameters, 0 gradients, 4.5 GFLOPs\n",
      "\n",
      "\u001b[34m\u001b[1mPyTorch:\u001b[0m starting from models\\yolov5n.pt with output shape (1, 25200, 85) (3.9 MB)\n",
      "\n",
      "\u001b[34m\u001b[1mONNX:\u001b[0m starting export with onnx 1.15.0...\n",
      "\u001b[34m\u001b[1mONNX:\u001b[0m export success  2.8s, saved as models\\yolov5n.onnx (7.6 MB)\n",
      "\n",
      "Export complete (3.8s)\n",
      "Results saved to \u001b[1mC:\\Users\\leona\\OneDrive - student.kit.edu\\Dokumente\\GitHub\\T869COMP\\assignment4\\yolov5\\models\u001b[0m\n",
      "Detect:          python detect.py --weights models\\yolov5n.onnx \n",
      "Validate:        python val.py --weights models\\yolov5n.onnx \n",
      "PyTorch Hub:     model = torch.hub.load('ultralytics/yolov5', 'custom', 'models\\yolov5n.onnx')  \n",
      "Visualize:       https://netron.app\n",
      "\u001b[34m\u001b[1mexport: \u001b[0mdata=C:\\Users\\leona\\OneDrive - student.kit.edu\\Dokumente\\GitHub\\T869COMP\\assignment4\\yolov5\\data\\coco128.yaml, weights=['models/yolov5s.pt'], imgsz=[640, 640], batch_size=1, device=cpu, half=False, inplace=False, keras=False, optimize=False, int8=False, dynamic=False, simplify=False, opset=17, verbose=False, workspace=4, nms=False, agnostic_nms=False, topk_per_class=100, topk_all=100, iou_thres=0.45, conf_thres=0.25, include=['onnx']\n",
      "unknown option: -\n",
      "usage: git [-v | --version] [-h | --help] [-C <path>] [-c <name>=<value>]\n",
      "           [--exec-path[=<path>]] [--html-path] [--man-path] [--info-path]\n",
      "           [-p | --paginate | -P | --no-pager] [--no-replace-objects] [--bare]\n",
      "           [--git-dir=<path>] [--work-tree=<path>] [--namespace=<name>]\n",
      "           [--config-env=<name>=<envvar>] <command> [<args>]\n",
      "YOLOv5  2023-12-1 Python-3.11.6 torch-2.1.1 CPU\n",
      "\n",
      "Fusing layers... \n",
      "YOLOv5s summary: 213 layers, 7225885 parameters, 0 gradients, 16.4 GFLOPs\n",
      "\n",
      "\u001b[34m\u001b[1mPyTorch:\u001b[0m starting from models\\yolov5s.pt with output shape (1, 25200, 85) (14.1 MB)\n",
      "\n",
      "\u001b[34m\u001b[1mONNX:\u001b[0m starting export with onnx 1.15.0...\n",
      "\u001b[34m\u001b[1mONNX:\u001b[0m export success  3.6s, saved as models\\yolov5s.onnx (28.0 MB)\n",
      "\n",
      "Export complete (5.4s)\n",
      "Results saved to \u001b[1mC:\\Users\\leona\\OneDrive - student.kit.edu\\Dokumente\\GitHub\\T869COMP\\assignment4\\yolov5\\models\u001b[0m\n",
      "Detect:          python detect.py --weights models\\yolov5s.onnx \n",
      "Validate:        python val.py --weights models\\yolov5s.onnx \n",
      "PyTorch Hub:     model = torch.hub.load('ultralytics/yolov5', 'custom', 'models\\yolov5s.onnx')  \n",
      "Visualize:       https://netron.app\n"
     ]
    }
   ],
   "source": [
    "# The default input size is 640x640.\n",
    "!python export.py --weights models/yolov5n.pt --include onnx\n",
    "!python export.py --weights models/yolov5s.pt --include onnx\n",
    "# !python export.py --weights models/yolov5m.pt --include onnx\n",
    "# !python export.py --weights models/yolov5l.pt --include onnx\n",
    "# !python export.py --weights models/yolov5x.pt --include onnx\n",
    "\n",
    "# Add the flag --imsz to export for custom input size.\n",
    "# !python export.py --weights models/yolov5n.pt --include onnx --imsz 320 320\n",
    "\n",
    "# Add the flag --dyanamic for dynamic input size. Compatible with ONNX runtime.\n",
    "# !python export.py --weights models/yolov5n.pt --include onnx --dynamic"
   ]
  },
  {
   "cell_type": "markdown",
   "metadata": {
    "id": "CO79jn9CNIw4"
   },
   "source": [
    "## Download the ONNX Models"
   ]
  },
  {
   "cell_type": "code",
   "execution_count": null,
   "metadata": {
    "id": "ITUKhgc2P4T6"
   },
   "outputs": [],
   "source": [
    "# For colab environment.\n",
    "# from google.colab import files\n",
    "# files.download('models/yolov5n.onnx')\n",
    "# files.download('models/yolov5s.onnx')\n",
    "# files.download('models/yolov5m.onnx')\n",
    "# files.download('models/yolov5l.onnx')\n",
    "# files.download('models/yolov5x.onnx')"
   ]
  }
 ],
 "metadata": {
  "colab": {
   "collapsed_sections": [],
   "name": "Convert_PyTorch_models.ipynb",
   "provenance": []
  },
  "kernelspec": {
   "display_name": "t869comp",
   "language": "python",
   "name": "python3"
  },
  "language_info": {
   "codemirror_mode": {
    "name": "ipython",
    "version": 3
   },
   "file_extension": ".py",
   "mimetype": "text/x-python",
   "name": "python",
   "nbconvert_exporter": "python",
   "pygments_lexer": "ipython3",
   "version": "3.11.6"
  }
 },
 "nbformat": 4,
 "nbformat_minor": 1
}
